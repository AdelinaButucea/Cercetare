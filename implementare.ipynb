{
  "nbformat": 4,
  "nbformat_minor": 0,
  "metadata": {
    "colab": {
      "provenance": []
    },
    "kernelspec": {
      "name": "python3",
      "display_name": "Python 3"
    },
    "language_info": {
      "name": "python"
    }
  },
  "cells": [
    {
      "cell_type": "code",
      "execution_count": 19,
      "metadata": {
        "id": "SNv9oPKI7v8j"
      },
      "outputs": [],
      "source": [
        "import pandas as pd\n",
        "import numpy as np\n",
        "from sklearn.datasets import load_iris"
      ]
    },
    {
      "cell_type": "code",
      "source": [
        "def sigmoid(x):\n",
        "    return 1/(1+np.exp(-x))"
      ],
      "metadata": {
        "id": "atvnv9ZH71OH"
      },
      "execution_count": 20,
      "outputs": []
    },
    {
      "cell_type": "code",
      "source": [
        "def sigmoid_derivat(x):\n",
        "  return sigmoid(x)*(1-sigmoid(x))"
      ],
      "metadata": {
        "id": "kLm-gj-G8RWf"
      },
      "execution_count": 21,
      "outputs": []
    },
    {
      "cell_type": "code",
      "source": [
        "def softmax(x):\n",
        "  s = np.exp(x).sum(axis=1)\n",
        "  return np.divide(np.exp(x).T, s).T"
      ],
      "metadata": {
        "id": "Tla_DSUr-znw"
      },
      "execution_count": 22,
      "outputs": []
    },
    {
      "cell_type": "code",
      "source": [
        "def softmax_derivat(x):\n",
        "  return softmax(x) - np.power(softmax(x), 2)"
      ],
      "metadata": {
        "id": "c2weHXg7EkBd"
      },
      "execution_count": 23,
      "outputs": []
    },
    {
      "cell_type": "code",
      "source": [
        "x = np.random.randint(5, size=(1, 4))"
      ],
      "metadata": {
        "id": "QAgRygWsnznt"
      },
      "execution_count": 146,
      "outputs": []
    },
    {
      "cell_type": "code",
      "source": [
        "softmax_derivat(x)"
      ],
      "metadata": {
        "colab": {
          "base_uri": "https://localhost:8080/"
        },
        "id": "UDrJceObHx4r",
        "outputId": "badba556-e68e-43ac-f626-bfbe5b8d5d6f"
      },
      "execution_count": 25,
      "outputs": [
        {
          "output_type": "execute_result",
          "data": {
            "text/plain": [
              "array([[0.1875    , 0.1875    , 0.1875    , 0.1875    ],\n",
              "       [0.03869096, 0.15403884, 0.03869096, 0.09758102],\n",
              "       [0.23191763, 0.11638834, 0.23191763, 0.11638834]])"
            ]
          },
          "metadata": {},
          "execution_count": 25
        }
      ]
    },
    {
      "cell_type": "code",
      "source": [
        "x"
      ],
      "metadata": {
        "colab": {
          "base_uri": "https://localhost:8080/"
        },
        "id": "DR6zyhRZoDZT",
        "outputId": "116e034b-3cd1-4204-b04d-96bbaaff4276"
      },
      "execution_count": 147,
      "outputs": [
        {
          "output_type": "execute_result",
          "data": {
            "text/plain": [
              "array([[4, 3, 3, 1]])"
            ]
          },
          "metadata": {},
          "execution_count": 147
        }
      ]
    },
    {
      "cell_type": "code",
      "source": [
        "s = x.sum(axis=1)"
      ],
      "metadata": {
        "id": "YnTIJu1yoXQa"
      },
      "execution_count": 27,
      "outputs": []
    },
    {
      "cell_type": "code",
      "source": [
        "s"
      ],
      "metadata": {
        "colab": {
          "base_uri": "https://localhost:8080/"
        },
        "id": "cILX7xX9p1qV",
        "outputId": "a73ecbc0-ca42-4aa8-d91e-f5cb41cec2c4"
      },
      "execution_count": 28,
      "outputs": [
        {
          "output_type": "execute_result",
          "data": {
            "text/plain": [
              "array([12,  8, 14])"
            ]
          },
          "metadata": {},
          "execution_count": 28
        }
      ]
    },
    {
      "cell_type": "code",
      "source": [
        "np.divide(x.T,s).T"
      ],
      "metadata": {
        "colab": {
          "base_uri": "https://localhost:8080/"
        },
        "id": "8_GLAt7KodLC",
        "outputId": "5c6e7039-e9be-4b76-fd5f-2be4e2a5e753"
      },
      "execution_count": 29,
      "outputs": [
        {
          "output_type": "execute_result",
          "data": {
            "text/plain": [
              "array([[0.25      , 0.25      , 0.25      , 0.25      ],\n",
              "       [0.125     , 0.5       , 0.125     , 0.25      ],\n",
              "       [0.28571429, 0.21428571, 0.28571429, 0.21428571]])"
            ]
          },
          "metadata": {},
          "execution_count": 29
        }
      ]
    },
    {
      "cell_type": "code",
      "source": [
        "softmax(x)"
      ],
      "metadata": {
        "colab": {
          "base_uri": "https://localhost:8080/"
        },
        "id": "cETrU5MQEW8V",
        "outputId": "7f29e62a-a666-4b28-ecd6-70fa18c24f04"
      },
      "execution_count": 148,
      "outputs": [
        {
          "output_type": "execute_result",
          "data": {
            "text/plain": [
              "array([[0.56005279, 0.20603191, 0.20603191, 0.02788339]])"
            ]
          },
          "metadata": {},
          "execution_count": 148
        }
      ]
    },
    {
      "cell_type": "code",
      "source": [
        "x1 = np.arange(9.0).reshape((3, 3))\n",
        "x2 = 2 * np.ones(3)\n",
        "x1 / x2"
      ],
      "metadata": {
        "colab": {
          "base_uri": "https://localhost:8080/"
        },
        "id": "xfIMA7ECpJtm",
        "outputId": "eed52ff4-29c0-4e16-e9e4-dbd91e32f911"
      },
      "execution_count": 31,
      "outputs": [
        {
          "output_type": "execute_result",
          "data": {
            "text/plain": [
              "array([[0. , 0.5, 1. ],\n",
              "       [1.5, 2. , 2.5],\n",
              "       [3. , 3.5, 4. ]])"
            ]
          },
          "metadata": {},
          "execution_count": 31
        }
      ]
    },
    {
      "cell_type": "code",
      "source": [
        "x2"
      ],
      "metadata": {
        "colab": {
          "base_uri": "https://localhost:8080/"
        },
        "id": "j_7rZ_K2pNyR",
        "outputId": "7b365a66-2da0-419e-e3cf-b37c51c2de94"
      },
      "execution_count": 32,
      "outputs": [
        {
          "output_type": "execute_result",
          "data": {
            "text/plain": [
              "array([2., 2., 2.])"
            ]
          },
          "metadata": {},
          "execution_count": 32
        }
      ]
    },
    {
      "cell_type": "code",
      "source": [
        "x1"
      ],
      "metadata": {
        "colab": {
          "base_uri": "https://localhost:8080/"
        },
        "id": "700NjLrJpP2b",
        "outputId": "f93ea943-df5e-44f1-9b7b-f58f49388a47"
      },
      "execution_count": 33,
      "outputs": [
        {
          "output_type": "execute_result",
          "data": {
            "text/plain": [
              "array([[0., 1., 2.],\n",
              "       [3., 4., 5.],\n",
              "       [6., 7., 8.]])"
            ]
          },
          "metadata": {},
          "execution_count": 33
        }
      ]
    },
    {
      "cell_type": "code",
      "source": [
        "x = np.random.rand(10, 4)"
      ],
      "metadata": {
        "id": "qUGbJzLbHxB0"
      },
      "execution_count": 34,
      "outputs": []
    },
    {
      "cell_type": "code",
      "source": [
        "softmax(x)"
      ],
      "metadata": {
        "colab": {
          "base_uri": "https://localhost:8080/"
        },
        "id": "uY-_goAN1tsh",
        "outputId": "610a7461-531c-4e20-fe72-30a42f8deba2"
      },
      "execution_count": 35,
      "outputs": [
        {
          "output_type": "execute_result",
          "data": {
            "text/plain": [
              "array([[0.16394645, 0.27515663, 0.36124313, 0.19965379],\n",
              "       [0.21713627, 0.35308321, 0.20272183, 0.22705869],\n",
              "       [0.21870406, 0.17373347, 0.2481324 , 0.35943006],\n",
              "       [0.35316787, 0.23724318, 0.1545083 , 0.25508066],\n",
              "       [0.21451538, 0.26064441, 0.19023516, 0.33460504],\n",
              "       [0.3683389 , 0.17241837, 0.16384272, 0.2954    ],\n",
              "       [0.2147685 , 0.28450391, 0.25461846, 0.24610912],\n",
              "       [0.3031185 , 0.34807621, 0.18103934, 0.16776594],\n",
              "       [0.28552439, 0.27095201, 0.22210382, 0.22141978],\n",
              "       [0.22309962, 0.33008248, 0.20541486, 0.24140305]])"
            ]
          },
          "metadata": {},
          "execution_count": 35
        }
      ]
    },
    {
      "cell_type": "code",
      "source": [
        "def ReLU(x):\n",
        "  return np.maximum(0, x)+1e-8"
      ],
      "metadata": {
        "id": "osQH2ZPE8X2F"
      },
      "execution_count": 36,
      "outputs": []
    },
    {
      "cell_type": "code",
      "source": [
        "def ReLU_derivat(x):\n",
        "  return x>0"
      ],
      "metadata": {
        "id": "X575AutZ8g48"
      },
      "execution_count": 37,
      "outputs": []
    },
    {
      "cell_type": "code",
      "source": [
        "def MSE(x, y):\n",
        "  return np.sum(pow((x-y), 2))/len(x)"
      ],
      "metadata": {
        "id": "-wx8UDZZFhm8"
      },
      "execution_count": 38,
      "outputs": []
    },
    {
      "cell_type": "code",
      "source": [
        "def MSE_derivat(x, y):\n",
        "  return x - y"
      ],
      "metadata": {
        "id": "EMWZFqw5FvF6"
      },
      "execution_count": 39,
      "outputs": []
    },
    {
      "cell_type": "markdown",
      "source": [
        "$$\\frac{\\partial L}{\\partial W_3} = \\frac{\\partial L}{\\partial O}\\cdot \\frac{\\partial O}{\\partial \\sigma} \\cdot \\frac{\\partial \\sigma}{\\partial o_3}\\cdot\\frac{\\partial o_3}{\\partial W_3} = \\frac{\\partial L}{\\partial O} \\cdot \\frac{\\partial \\sigma}{\\partial o_3}\\cdot\\ h_2 = \\Biggl(\\frac{\\partial L}{\\partial O}\\odot \\sigma'(o_3)\\Biggr)  \\cdot h_2$$"
      ],
      "metadata": {
        "id": "egEJWjw4jNiF"
      }
    },
    {
      "cell_type": "code",
      "source": [
        "class NN2:\n",
        "  def __init__(self, dims, acts):\n",
        "    self.weights = []\n",
        "    self.hiddens = []\n",
        "    self.activated = []\n",
        "    self.dims = dims\n",
        "    self.acts = acts\n",
        "  \n",
        "\n",
        "  def init_params(self):\n",
        "    for i in range(len(self.dims)-1):\n",
        "      inc = self.dims[i]\n",
        "      outc = self.dims[i+1]\n",
        "      w_i = np.random.normal(0, 2, (inc, outc))\n",
        "      self.weights.append(w_i)\n",
        "\n",
        "\n",
        "  def forward(self, X):\n",
        "    out = X \n",
        "    for i in range(len(self.dims)-1):\n",
        "      out = out @ self.weights[i]\n",
        "      self.hiddens.append(out)\n",
        "      out = self.acts[i](out)\n",
        "      self.activated.append(out)\n",
        "    self.hiddens.append(X)\n",
        "    return out\n",
        "\n",
        "\n",
        "  def backward(self, y, lr):\n",
        "    d_0 = self.hiddens[-1].T @ np.multiply(MSE_derivat(self.activated[-1], y), softmax_derivat(self.hiddens[-2]))\n",
        "    print(d_0)\n",
        "    self.weights[0] -= lr*d_0\n",
        "    # return d_0.shape\n",
        "  def printparam(self, param):\n",
        "    if param=='weights':\n",
        "      for i in (self.weights):\n",
        "        print(i)\n",
        "    elif param=='hiddens':\n",
        "      for i in (self.hiddens):\n",
        "        print(i)\n",
        "    else:\n",
        "      for i in (self.activated):\n",
        "        print(i)\n"
      ],
      "metadata": {
        "id": "Xe4RyTkoU3jo"
      },
      "execution_count": 167,
      "outputs": []
    },
    {
      "cell_type": "code",
      "source": [
        "data = load_iris()\n",
        "X = data['data']\n",
        "y = data['target']\n",
        "yt = np.zeros((len(y), y.max()+1))\n",
        "yt[np.arange(len(y)), y] = 1"
      ],
      "metadata": {
        "id": "BcnHiL-ws6NL"
      },
      "execution_count": 168,
      "outputs": []
    },
    {
      "cell_type": "code",
      "source": [
        "nn = NN2([4, 3], [softmax])\n",
        "nn.init_params()\n",
        "nn.forward(X)\n",
        "nn.backward(yt, 0.01)"
      ],
      "metadata": {
        "colab": {
          "base_uri": "https://localhost:8080/"
        },
        "id": "bB880mqIDNAq",
        "outputId": "ca260d4d-41af-443b-e6d7-779f81b326f7"
      },
      "execution_count": 169,
      "outputs": [
        {
          "output_type": "stream",
          "name": "stdout",
          "text": [
            "[[-2.29828264  7.24280425 25.34001755]\n",
            " [-1.56460449  5.31560797 17.09991644]\n",
            " [-0.61822823  1.9269717   8.32809765]\n",
            " [-0.09218124  0.327498    1.67748113]]\n"
          ]
        }
      ]
    },
    {
      "cell_type": "code",
      "source": [
        "ep = 10\n",
        "for i in range(ep+1):\n",
        "  nn.forward(X)\n",
        "  nn.backward(yt, 0.01)\n",
        "  # nn.printparam('weights')"
      ],
      "metadata": {
        "colab": {
          "base_uri": "https://localhost:8080/"
        },
        "id": "fw88PiqP4YiB",
        "outputId": "6dc4dee7-34cf-490a-fe84-cd500585ec0c"
      },
      "execution_count": 170,
      "outputs": [
        {
          "output_type": "stream",
          "name": "stdout",
          "text": [
            "[[-0.29234454 18.03290402 43.83842192]\n",
            " [-2.58958078 12.76873563 26.551889  ]\n",
            " [ 6.18898064  5.05579454 18.12024558]\n",
            " [ 3.18108607  0.85514703  3.76425277]]\n",
            "[[ 21.25954896  24.28439076  -9.23574266]\n",
            " [  2.72903675  16.8879533   -2.98856059]\n",
            " [ 30.63274928   6.98795595 -11.04699222]\n",
            " [ 11.23470095   1.15300839  -4.22444551]]\n",
            "[[-18.69161035  10.84266194  50.15001763]\n",
            " [-14.4982251    7.85432636  30.25967252]\n",
            " [ -1.00394637   2.94268582  21.64393826]\n",
            " [  1.3105166    0.49547452   4.9861702 ]]\n",
            "[[ 1.65616274  5.1334965  -2.39963115]\n",
            " [-0.89052253  3.79397047 -1.02645181]\n",
            " [ 4.14399392  1.37765037 -2.11076119]\n",
            " [ 1.5566758   0.20836256 -0.70947046]]\n",
            "[[ 8.28134157  3.65548741 -4.37298916]\n",
            " [ 2.45659822  2.72016454 -1.86446779]\n",
            " [ 8.62324628  0.97369842 -3.8562675 ]\n",
            " [ 2.92163451  0.1445508  -1.30179659]]\n",
            "[[ 37.58657031   5.07989114 -15.85365405]\n",
            " [ 14.84144792   3.75454821  -6.66902543]\n",
            " [ 33.14099955   1.36387874 -14.38102954]\n",
            " [ 11.05729167   0.20715451  -5.06319742]]\n",
            "[[-25.34477313  12.17826351  37.42656266]\n",
            " [-17.25909438   8.78178476  24.09176395]\n",
            " [ -7.2618597    3.32633758  13.58603159]\n",
            " [ -1.23001304   0.56107481   2.93127182]]\n",
            "[[ 51.98577595   3.0063744  -22.63650893]\n",
            " [ 22.25877536   2.23967162  -9.797005  ]\n",
            " [ 42.90393809   0.80304308 -19.94301828]\n",
            " [ 14.22889471   0.11808627  -7.07201241]]\n",
            "[[-13.72568776  12.68279319  30.03384961]\n",
            " [ -9.29630045   9.12810029  20.34682223]\n",
            " [ -3.99156288   3.46740773   9.08278206]\n",
            " [ -0.7131188    0.58774983   1.60766261]]\n",
            "[[-22.87209665  13.01841248  29.58760775]\n",
            " [-16.77324059   9.36025691  15.70190533]\n",
            " [ -4.67659987   3.60537568  17.18221169]\n",
            " [ -0.0877931    0.58840223   4.86174943]]\n",
            "[[ 3.77749626e+01  5.47842491e-01 -1.93994421e+01]\n",
            " [ 1.66272423e+01  4.12487368e-01 -8.38838012e+00]\n",
            " [ 3.04011339e+01  1.44148176e-01 -1.67342894e+01]\n",
            " [ 9.92326864e+00  2.05030786e-02 -5.75210618e+00]]\n"
          ]
        }
      ]
    },
    {
      "cell_type": "code",
      "source": [
        "nn.forward(X)"
      ],
      "metadata": {
        "colab": {
          "base_uri": "https://localhost:8080/"
        },
        "id": "WlZTFyxl4t2U",
        "outputId": "12f571e6-881b-47ae-c554-56bb24aec769"
      },
      "execution_count": 165,
      "outputs": [
        {
          "output_type": "execute_result",
          "data": {
            "text/plain": [
              "array([[4.76790471e-07, 3.11821431e-07, 9.99999211e-01],\n",
              "       [2.84784737e-06, 9.21911388e-07, 9.99996230e-01],\n",
              "       [1.75897362e-06, 1.07112511e-06, 9.99997170e-01],\n",
              "       [2.25552829e-06, 9.97981624e-07, 9.99996746e-01],\n",
              "       [3.61519679e-07, 3.06210073e-07, 9.99999332e-01],\n",
              "       [2.52687649e-07, 9.78518748e-08, 9.99999649e-01],\n",
              "       [1.53295754e-06, 9.39048283e-07, 9.99997528e-01],\n",
              "       [6.56825752e-07, 3.50035496e-07, 9.99998993e-01],\n",
              "       [5.30753079e-06, 2.19940001e-06, 9.99992493e-01],\n",
              "       [1.09984695e-06, 5.16525974e-07, 9.99998384e-01],\n",
              "       [1.91271996e-07, 1.22772459e-07, 9.99999686e-01],\n",
              "       [6.86083803e-07, 3.85861759e-07, 9.99998928e-01],\n",
              "       [1.74872557e-06, 8.41676790e-07, 9.99997410e-01],\n",
              "       [2.89249346e-06, 2.99242614e-06, 9.99994115e-01],\n",
              "       [6.90642135e-08, 7.53113924e-08, 9.99999856e-01],\n",
              "       [4.60925277e-08, 4.16879416e-08, 9.99999912e-01],\n",
              "       [3.36603158e-07, 2.06188217e-07, 9.99999457e-01],\n",
              "       [8.22532819e-07, 3.93615147e-07, 9.99998784e-01],\n",
              "       [1.72144560e-07, 5.94355574e-08, 9.99999768e-01],\n",
              "       [2.80764426e-07, 2.02126727e-07, 9.99999517e-01],\n",
              "       [4.51920512e-07, 1.36703027e-07, 9.99999411e-01],\n",
              "       [6.76696126e-07, 2.99431707e-07, 9.99999024e-01],\n",
              "       [6.06438691e-07, 1.13815270e-06, 9.99998255e-01],\n",
              "       [3.85349530e-06, 4.93910061e-07, 9.99995653e-01],\n",
              "       [5.53320302e-07, 2.20628080e-07, 9.99999226e-01],\n",
              "       [2.32926915e-06, 5.51087411e-07, 9.99997120e-01],\n",
              "       [1.81956579e-06, 4.62934870e-07, 9.99997717e-01],\n",
              "       [4.18951523e-07, 2.24574604e-07, 9.99999356e-01],\n",
              "       [6.28815409e-07, 3.17535607e-07, 9.99999054e-01],\n",
              "       [1.41859682e-06, 6.12448346e-07, 9.99997969e-01],\n",
              "       [1.87091673e-06, 6.23671366e-07, 9.99997505e-01],\n",
              "       [1.55231671e-06, 3.16196471e-07, 9.99998131e-01],\n",
              "       [3.26574547e-08, 6.80997446e-08, 9.99999899e-01],\n",
              "       [3.64439049e-08, 5.76583112e-08, 9.99999906e-01],\n",
              "       [1.89739480e-06, 6.52015302e-07, 9.99997451e-01],\n",
              "       [1.58965245e-06, 8.43138665e-07, 9.99997567e-01],\n",
              "       [4.06761679e-07, 2.12982038e-07, 9.99999380e-01],\n",
              "       [2.21991555e-07, 2.79560111e-07, 9.99999498e-01],\n",
              "       [4.08131977e-06, 2.25798054e-06, 9.99993661e-01],\n",
              "       [6.20040296e-07, 3.03731920e-07, 9.99999076e-01],\n",
              "       [9.36088644e-07, 5.46533854e-07, 9.99998517e-01],\n",
              "       [6.90474187e-05, 7.58213657e-06, 9.99923370e-01],\n",
              "       [2.09097970e-06, 1.63947528e-06, 9.99996270e-01],\n",
              "       [3.87607825e-06, 6.28554237e-07, 9.99995495e-01],\n",
              "       [3.63608209e-07, 1.21086296e-07, 9.99999515e-01],\n",
              "       [5.20441178e-06, 1.34114486e-06, 9.99993454e-01],\n",
              "       [1.51489575e-07, 1.32902793e-07, 9.99999716e-01],\n",
              "       [1.73442725e-06, 1.02456196e-06, 9.99997241e-01],\n",
              "       [2.02619701e-07, 1.41488984e-07, 9.99999656e-01],\n",
              "       [9.85846956e-07, 4.94930027e-07, 9.99998519e-01],\n",
              "       [2.83740010e-05, 1.18882254e-09, 9.99971625e-01],\n",
              "       [7.98312575e-05, 5.10314869e-09, 9.99920164e-01],\n",
              "       [6.27654481e-05, 1.39813996e-09, 9.99937233e-01],\n",
              "       [1.30605807e-03, 1.22959166e-07, 9.98693819e-01],\n",
              "       [2.67197018e-04, 6.97018596e-09, 9.99732796e-01],\n",
              "       [1.52969703e-04, 1.64005766e-08, 9.99847014e-01],\n",
              "       [9.04755845e-05, 4.35778399e-09, 9.99909520e-01],\n",
              "       [4.25361646e-04, 4.50125123e-07, 9.99574188e-01],\n",
              "       [6.06754970e-05, 3.23498373e-09, 9.99939321e-01],\n",
              "       [7.55697796e-04, 1.50980909e-07, 9.99244151e-01],\n",
              "       [1.32426235e-03, 5.09925033e-07, 9.98675228e-01],\n",
              "       [2.57691327e-04, 2.49837101e-08, 9.99742284e-01],\n",
              "       [2.66692751e-04, 3.53276216e-08, 9.99733272e-01],\n",
              "       [1.29965177e-04, 6.88958045e-09, 9.99870028e-01],\n",
              "       [2.21096666e-04, 8.61501824e-08, 9.99778817e-01],\n",
              "       [5.84285443e-05, 3.73463661e-09, 9.99941568e-01],\n",
              "       [2.47055549e-04, 2.18653047e-08, 9.99752923e-01],\n",
              "       [5.23481688e-05, 1.74979050e-08, 9.99947634e-01],\n",
              "       [2.53178593e-03, 3.35040725e-08, 9.97468181e-01],\n",
              "       [2.28260401e-04, 5.86385029e-08, 9.99771681e-01],\n",
              "       [4.40802955e-04, 1.19266054e-08, 9.99559185e-01],\n",
              "       [1.73837313e-04, 2.36037916e-08, 9.99826139e-01],\n",
              "       [6.59172531e-04, 8.55206570e-09, 9.99340819e-01],\n",
              "       [6.10142410e-05, 5.07456589e-09, 9.99938981e-01],\n",
              "       [8.44236848e-05, 7.51408739e-09, 9.99915569e-01],\n",
              "       [8.64707348e-05, 5.05086877e-09, 9.99913524e-01],\n",
              "       [1.12905414e-04, 2.48560955e-09, 9.99887092e-01],\n",
              "       [2.72542487e-04, 2.88150577e-09, 9.99727455e-01],\n",
              "       [2.74086516e-04, 1.45467265e-08, 9.99725899e-01],\n",
              "       [1.19105035e-04, 7.23817560e-08, 9.99880823e-01],\n",
              "       [3.62879058e-04, 9.55384049e-08, 9.99637025e-01],\n",
              "       [2.26010739e-04, 9.12000576e-08, 9.99773898e-01],\n",
              "       [1.79789766e-04, 4.04678502e-08, 9.99820170e-01],\n",
              "       [6.00098359e-04, 8.26540135e-09, 9.99399893e-01],\n",
              "       [2.77231189e-04, 2.90392769e-08, 9.99722740e-01],\n",
              "       [8.88513719e-05, 8.25031681e-09, 9.99911140e-01],\n",
              "       [8.12905947e-05, 2.69546295e-09, 9.99918707e-01],\n",
              "       [6.18706575e-04, 1.87668542e-08, 9.99381275e-01],\n",
              "       [1.10595239e-04, 2.89186174e-08, 9.99889376e-01],\n",
              "       [6.69556549e-04, 8.93349033e-08, 9.99330354e-01],\n",
              "       [2.08641872e-04, 2.86320488e-08, 9.99791329e-01],\n",
              "       [9.99419081e-05, 7.07328704e-09, 9.99900051e-01],\n",
              "       [2.33794298e-04, 3.94158784e-08, 9.99766166e-01],\n",
              "       [5.60912480e-04, 4.58311644e-07, 9.99438629e-01],\n",
              "       [2.80677043e-04, 3.87886470e-08, 9.99719284e-01],\n",
              "       [5.63339613e-05, 1.65002183e-08, 9.99943650e-01],\n",
              "       [1.35764934e-04, 2.44415893e-08, 9.99864211e-01],\n",
              "       [9.47371704e-05, 9.97964600e-09, 9.99905253e-01],\n",
              "       [5.80271077e-04, 6.37457696e-07, 9.99419091e-01],\n",
              "       [2.03759378e-04, 3.45566651e-08, 9.99796206e-01],\n",
              "       [4.79929814e-03, 3.13113575e-09, 9.95200699e-01],\n",
              "       [3.44763598e-03, 2.20174096e-08, 9.96552342e-01],\n",
              "       [1.00483824e-03, 7.74756760e-10, 9.98995161e-01],\n",
              "       [5.37886379e-04, 2.46106481e-09, 9.99462111e-01],\n",
              "       [2.62743127e-03, 2.75600027e-09, 9.97372566e-01],\n",
              "       [4.56297558e-04, 1.03473581e-10, 9.99543702e-01],\n",
              "       [5.82583159e-03, 2.08233329e-07, 9.94173960e-01],\n",
              "       [1.83065634e-04, 1.61656983e-10, 9.99816934e-01],\n",
              "       [1.40872933e-03, 1.82155904e-09, 9.98591269e-01],\n",
              "       [9.78943408e-04, 4.50113772e-10, 9.99021056e-01],\n",
              "       [7.48479753e-04, 4.63675341e-09, 9.99251516e-01],\n",
              "       [2.11666521e-03, 6.48288565e-09, 9.97883328e-01],\n",
              "       [1.59025479e-03, 2.49729955e-09, 9.98409743e-01],\n",
              "       [1.30840765e-02, 5.26349368e-08, 9.86915871e-01],\n",
              "       [3.64581921e-02, 5.81377952e-08, 9.63541750e-01],\n",
              "       [3.51735099e-03, 7.38382348e-09, 9.96482642e-01],\n",
              "       [3.68647325e-04, 1.90269280e-09, 9.99631351e-01],\n",
              "       [4.76738130e-05, 2.61554269e-11, 9.99952326e-01],\n",
              "       [3.92521013e-03, 1.54629318e-10, 9.96074790e-01],\n",
              "       [1.98635639e-03, 1.75371866e-08, 9.98013626e-01],\n",
              "       [1.98243262e-03, 1.72642032e-09, 9.98017566e-01],\n",
              "       [5.50240566e-03, 4.55636375e-08, 9.94497549e-01],\n",
              "       [4.53640195e-04, 8.13084498e-11, 9.99546360e-01],\n",
              "       [1.73204122e-03, 1.24763100e-08, 9.98267946e-01],\n",
              "       [5.35809483e-04, 1.22794434e-09, 9.99464189e-01],\n",
              "       [8.81862972e-05, 2.01606146e-10, 9.99911814e-01],\n",
              "       [1.41135284e-03, 1.47659979e-08, 9.98588632e-01],\n",
              "       [7.13483273e-04, 1.02623718e-08, 9.99286506e-01],\n",
              "       [3.63092842e-03, 5.02529517e-09, 9.96369067e-01],\n",
              "       [6.67540738e-05, 2.52955929e-10, 9.99933246e-01],\n",
              "       [4.80580593e-04, 3.01554056e-10, 9.99519419e-01],\n",
              "       [1.77003275e-05, 2.16157586e-11, 9.99982300e-01],\n",
              "       [6.24743242e-03, 6.32682219e-09, 9.93752561e-01],\n",
              "       [2.09531551e-04, 3.64665200e-09, 9.99790465e-01],\n",
              "       [1.85899640e-04, 2.08151679e-09, 9.99814098e-01],\n",
              "       [1.83205795e-03, 3.62710518e-10, 9.98167942e-01],\n",
              "       [2.65823573e-03, 4.46329661e-09, 9.97341760e-01],\n",
              "       [2.79546538e-04, 1.86861936e-09, 9.99720452e-01],\n",
              "       [8.11904362e-04, 1.42478833e-08, 9.99188081e-01],\n",
              "       [1.15487069e-03, 2.22563408e-09, 9.98845127e-01],\n",
              "       [5.73861114e-03, 4.07708956e-09, 9.94261385e-01],\n",
              "       [4.24852869e-03, 6.18314883e-09, 9.95751465e-01],\n",
              "       [3.44763598e-03, 2.20174096e-08, 9.96552342e-01],\n",
              "       [1.81983641e-03, 1.37085521e-09, 9.98180162e-01],\n",
              "       [4.72595143e-03, 3.10468995e-09, 9.95274045e-01],\n",
              "       [6.18792244e-03, 7.98345574e-09, 9.93812070e-01],\n",
              "       [5.40878773e-03, 1.79366953e-08, 9.94591194e-01],\n",
              "       [1.35904235e-03, 5.29713837e-09, 9.98640952e-01],\n",
              "       [1.88539114e-03, 5.91963873e-09, 9.98114603e-01],\n",
              "       [6.93722601e-04, 9.38971304e-09, 9.99306268e-01]])"
            ]
          },
          "metadata": {},
          "execution_count": 165
        }
      ]
    },
    {
      "cell_type": "code",
      "source": [
        "yt[3]"
      ],
      "metadata": {
        "colab": {
          "base_uri": "https://localhost:8080/"
        },
        "id": "7pPGOEiu5-PI",
        "outputId": "4fbb9660-7410-4742-bfe2-a2652cc93e5c"
      },
      "execution_count": 162,
      "outputs": [
        {
          "output_type": "execute_result",
          "data": {
            "text/plain": [
              "array([1., 0., 0.])"
            ]
          },
          "metadata": {},
          "execution_count": 162
        }
      ]
    },
    {
      "cell_type": "code",
      "source": [
        "softmax(np.expand_dims(X[0], 0))"
      ],
      "metadata": {
        "colab": {
          "base_uri": "https://localhost:8080/"
        },
        "id": "t5bhD4gn4_fd",
        "outputId": "e6be1961-50b4-4f32-89a9-e4263e167dbd"
      },
      "execution_count": 151,
      "outputs": [
        {
          "output_type": "execute_result",
          "data": {
            "text/plain": [
              "array([[0.81032902, 0.16360261, 0.02003419, 0.00603418]])"
            ]
          },
          "metadata": {},
          "execution_count": 151
        }
      ]
    },
    {
      "cell_type": "code",
      "source": [],
      "metadata": {
        "id": "TPDpxcWd5R4H"
      },
      "execution_count": null,
      "outputs": []
    },
    {
      "cell_type": "code",
      "source": [
        "nn.printparam('hiddens')"
      ],
      "metadata": {
        "id": "inQx1tXwuGMw"
      },
      "execution_count": null,
      "outputs": []
    },
    {
      "cell_type": "code",
      "source": [
        "softmax(X@nn.weights[0])"
      ],
      "metadata": {
        "colab": {
          "base_uri": "https://localhost:8080/"
        },
        "id": "XDO_aop5qb33",
        "outputId": "ad13c27b-b042-4bc6-ddc4-a92c42a9270a"
      },
      "execution_count": 68,
      "outputs": [
        {
          "output_type": "execute_result",
          "data": {
            "text/plain": [
              "array([[1.],\n",
              "       [1.],\n",
              "       [1.],\n",
              "       [1.],\n",
              "       [1.]])"
            ]
          },
          "metadata": {},
          "execution_count": 68
        }
      ]
    },
    {
      "cell_type": "code",
      "source": [
        "dd = X@nn.weights[0]"
      ],
      "metadata": {
        "id": "E0bW-kKyrCn5"
      },
      "execution_count": 70,
      "outputs": []
    },
    {
      "cell_type": "code",
      "source": [
        "np.exp(dd)"
      ],
      "metadata": {
        "colab": {
          "base_uri": "https://localhost:8080/"
        },
        "id": "hjI2WQtLrg5P",
        "outputId": "ccf72c9f-26aa-4e41-c8aa-ae2041320855"
      },
      "execution_count": 77,
      "outputs": [
        {
          "output_type": "execute_result",
          "data": {
            "text/plain": [
              "array([[0.07363323],\n",
              "       [0.09514679],\n",
              "       [0.5306785 ],\n",
              "       [0.20309256],\n",
              "       [0.15378363]])"
            ]
          },
          "metadata": {},
          "execution_count": 77
        }
      ]
    },
    {
      "cell_type": "code",
      "source": [
        "ss = np.exp(dd).sum(axis=1)"
      ],
      "metadata": {
        "id": "vpqZr8sbrNog"
      },
      "execution_count": 72,
      "outputs": []
    },
    {
      "cell_type": "code",
      "source": [
        "ss"
      ],
      "metadata": {
        "colab": {
          "base_uri": "https://localhost:8080/"
        },
        "id": "xPfhWr7GriQg",
        "outputId": "8b72ad8f-a7d4-4330-b4bb-aa6f136f27d4"
      },
      "execution_count": 76,
      "outputs": [
        {
          "output_type": "execute_result",
          "data": {
            "text/plain": [
              "array([0.07363323, 0.09514679, 0.5306785 , 0.20309256, 0.15378363])"
            ]
          },
          "metadata": {},
          "execution_count": 76
        }
      ]
    },
    {
      "cell_type": "code",
      "source": [
        "np.divide(np.exp(dd).T, ss).T"
      ],
      "metadata": {
        "colab": {
          "base_uri": "https://localhost:8080/"
        },
        "id": "XwQFyCCFrcRV",
        "outputId": "90259f00-014c-4abf-dd70-e693b1ac209a"
      },
      "execution_count": 74,
      "outputs": [
        {
          "output_type": "execute_result",
          "data": {
            "text/plain": [
              "array([[1.],\n",
              "       [1.],\n",
              "       [1.],\n",
              "       [1.],\n",
              "       [1.]])"
            ]
          },
          "metadata": {},
          "execution_count": 74
        }
      ]
    },
    {
      "cell_type": "code",
      "source": [
        "nn.printparam('a')"
      ],
      "metadata": {
        "colab": {
          "base_uri": "https://localhost:8080/"
        },
        "id": "BqodRxwxZdgM",
        "outputId": "7a64e35c-f2c1-46fd-beaf-4567e942631c"
      },
      "execution_count": 81,
      "outputs": [
        {
          "output_type": "stream",
          "name": "stdout",
          "text": [
            "[[0.98692037]\n",
            " [0.9984375 ]\n",
            " [0.99468606]\n",
            " [0.96072178]\n",
            " [0.91100583]]\n"
          ]
        }
      ]
    },
    {
      "cell_type": "code",
      "source": [
        "data = load_iris()"
      ],
      "metadata": {
        "id": "9jNLeBP_E02s"
      },
      "execution_count": 82,
      "outputs": []
    },
    {
      "cell_type": "code",
      "source": [
        "class NN():\n",
        "  def __init__(self, dims, acts):\n",
        "    self.dims = dims\n",
        "    self.acts = acts\n",
        "    self.weights = []\n",
        "    self.hiddens = []\n",
        "    self.activated = []\n",
        "\n",
        "\n",
        "  def init_params(self):\n",
        "    for i in range(len(self.dims)-1):\n",
        "      inc = self.dims[i]\n",
        "      outc = self.dims[i+1]\n",
        "      w_i = np.random.normal(0, 2, (inc, outc))\n",
        "      self.weights.append(w_i)\n",
        "\n",
        "  def forward(self, X):\n",
        "    out = X\n",
        "    for i in range(len(self.dims)-1):\n",
        "      # inc = self.dims[i]\n",
        "      # outc = self.dims[i+1]\n",
        "      # w_i = np.random.normal(0, 2, (inc, outc))\n",
        "      # self.weights.append(w_i)\n",
        "      out = out @ self.weights[i]\n",
        "      self.hiddens.append(out)\n",
        "      out = self.acts[i](out) \n",
        "      self.activated.append(out)\n",
        "    self.hiddens.append(X)\n",
        "    return out\n",
        "\n",
        "  def printparam(self):\n",
        "    # print(\"weights:\")\n",
        "    # for i in self.weights:\n",
        "    #   print(i)\n",
        "    print(\"hiddens\")\n",
        "    for i in self.hiddens:\n",
        "      print(i)\n",
        "    # print(\"activated\")\n",
        "    # for i in self.activated:\n",
        "    #   print(i.shape)\n",
        "\n",
        "  def backward(self, y, lr):\n",
        "    d_0 = self.hiddens[-1].T @ np.multiply(\n",
        "        (np.multiply(\n",
        "            np.multiply(\n",
        "                MSE_derivat(self.activated[-1], y), softmax_derivat(self.activated[2])) \\\n",
        "            @ self.weights[2].T, \n",
        "            ReLU_derivat(self.activated[1])) @ self.weights[1].T), ReLU_derivat(self.activated[0]))\n",
        "    d_1 = self.hiddens[0].T @ np.multiply((np.multiply(MSE_derivat(self.activated[-1], y), sigmoid_derivat(self.activated[2])) @ self.weights[2].T), ReLU_derivat(self.activated[1]))\n",
        "\n",
        "    d_2 = self.hiddens[1].T @ np.multiply(MSE_derivat(self.activated[-1], y), softmax_derivat(self.activated[2]))\n",
        "    self.weights[0] -= lr*d_0\n",
        "    self.weights[1] -= lr*d_1\n",
        "    self.weights[2] -= lr*d_2\n"
      ],
      "metadata": {
        "id": "hCk6obS1_B8x"
      },
      "execution_count": 83,
      "outputs": []
    },
    {
      "cell_type": "code",
      "source": [
        "X = data['data']\n",
        "y = data['target']\n",
        "# X = np.random.rand(4, 4)\n",
        "# y = [1, 2, 2, 0]\n",
        "nn = NN([4, 8, 4, 3], [ReLU, ReLU, softmax])\n",
        "nn.init_params()"
      ],
      "metadata": {
        "id": "wmFv4g8L0WXi"
      },
      "execution_count": 84,
      "outputs": []
    },
    {
      "cell_type": "code",
      "source": [
        "y"
      ],
      "metadata": {
        "colab": {
          "base_uri": "https://localhost:8080/"
        },
        "id": "azNVmhhiSDT-",
        "outputId": "b4aa9757-8dc6-4e01-80c6-fbe16517f3a3"
      },
      "execution_count": 85,
      "outputs": [
        {
          "output_type": "execute_result",
          "data": {
            "text/plain": [
              "array([0, 0, 0, 0, 0, 0, 0, 0, 0, 0, 0, 0, 0, 0, 0, 0, 0, 0, 0, 0, 0, 0,\n",
              "       0, 0, 0, 0, 0, 0, 0, 0, 0, 0, 0, 0, 0, 0, 0, 0, 0, 0, 0, 0, 0, 0,\n",
              "       0, 0, 0, 0, 0, 0, 1, 1, 1, 1, 1, 1, 1, 1, 1, 1, 1, 1, 1, 1, 1, 1,\n",
              "       1, 1, 1, 1, 1, 1, 1, 1, 1, 1, 1, 1, 1, 1, 1, 1, 1, 1, 1, 1, 1, 1,\n",
              "       1, 1, 1, 1, 1, 1, 1, 1, 1, 1, 1, 1, 2, 2, 2, 2, 2, 2, 2, 2, 2, 2,\n",
              "       2, 2, 2, 2, 2, 2, 2, 2, 2, 2, 2, 2, 2, 2, 2, 2, 2, 2, 2, 2, 2, 2,\n",
              "       2, 2, 2, 2, 2, 2, 2, 2, 2, 2, 2, 2, 2, 2, 2, 2, 2, 2])"
            ]
          },
          "metadata": {},
          "execution_count": 85
        }
      ]
    },
    {
      "cell_type": "code",
      "source": [
        "y_exp = np.zeros((len(y), max(y)+1))\n",
        "y_exp[np.arange(len(y)), y] = 1"
      ],
      "metadata": {
        "id": "QngQMXeu0mrZ"
      },
      "execution_count": 86,
      "outputs": []
    },
    {
      "cell_type": "code",
      "source": [
        "y_exp"
      ],
      "metadata": {
        "id": "FydlECNwTiR2"
      },
      "execution_count": null,
      "outputs": []
    },
    {
      "cell_type": "code",
      "source": [
        "nn.printparam()"
      ],
      "metadata": {
        "colab": {
          "base_uri": "https://localhost:8080/"
        },
        "id": "D248AuD6wO4g",
        "outputId": "84004cbe-f7a8-4974-d10a-3ae91b42e038"
      },
      "execution_count": 92,
      "outputs": [
        {
          "output_type": "stream",
          "name": "stdout",
          "text": [
            "hiddens\n"
          ]
        }
      ]
    },
    {
      "cell_type": "code",
      "source": [
        "y"
      ],
      "metadata": {
        "colab": {
          "base_uri": "https://localhost:8080/"
        },
        "id": "SXl0duQ9RujL",
        "outputId": "3ed263a5-4815-410f-97dc-6378362d3fdc"
      },
      "execution_count": 101,
      "outputs": [
        {
          "output_type": "execute_result",
          "data": {
            "text/plain": [
              "array([[0, 6, 0, 6]])"
            ]
          },
          "metadata": {},
          "execution_count": 101
        }
      ]
    },
    {
      "cell_type": "code",
      "source": [
        "epochs = 10\n",
        "for i in range(epochs+1):\n",
        "  nn.forward(X)\n",
        "  nn.printparam()\n",
        "  nn.backward(y_exp, 0.01)"
      ],
      "metadata": {
        "id": "L2p5fG3R0XRE"
      },
      "execution_count": null,
      "outputs": []
    },
    {
      "cell_type": "code",
      "source": [
        "nn.printparam()"
      ],
      "metadata": {
        "id": "bQtcHyoNQbUa"
      },
      "execution_count": null,
      "outputs": []
    },
    {
      "cell_type": "code",
      "source": [
        "nn.forward(X[2])"
      ],
      "metadata": {
        "colab": {
          "base_uri": "https://localhost:8080/",
          "height": 324
        },
        "id": "4f-1fgokx1VK",
        "outputId": "9ac6194f-e548-415d-90e1-c2777615ff75"
      },
      "execution_count": 90,
      "outputs": [
        {
          "output_type": "error",
          "ename": "AxisError",
          "evalue": "ignored",
          "traceback": [
            "\u001b[0;31m---------------------------------------------------------------------------\u001b[0m",
            "\u001b[0;31mAxisError\u001b[0m                                 Traceback (most recent call last)",
            "\u001b[0;32m<ipython-input-90-72b331baccea>\u001b[0m in \u001b[0;36m<cell line: 1>\u001b[0;34m()\u001b[0m\n\u001b[0;32m----> 1\u001b[0;31m \u001b[0mnn\u001b[0m\u001b[0;34m.\u001b[0m\u001b[0mforward\u001b[0m\u001b[0;34m(\u001b[0m\u001b[0mX\u001b[0m\u001b[0;34m[\u001b[0m\u001b[0;36m2\u001b[0m\u001b[0;34m]\u001b[0m\u001b[0;34m)\u001b[0m\u001b[0;34m\u001b[0m\u001b[0;34m\u001b[0m\u001b[0m\n\u001b[0m",
            "\u001b[0;32m<ipython-input-83-67057c7cd407>\u001b[0m in \u001b[0;36mforward\u001b[0;34m(self, X)\u001b[0m\n\u001b[1;32m     24\u001b[0m       \u001b[0mout\u001b[0m \u001b[0;34m=\u001b[0m \u001b[0mout\u001b[0m \u001b[0;34m@\u001b[0m \u001b[0mself\u001b[0m\u001b[0;34m.\u001b[0m\u001b[0mweights\u001b[0m\u001b[0;34m[\u001b[0m\u001b[0mi\u001b[0m\u001b[0;34m]\u001b[0m\u001b[0;34m\u001b[0m\u001b[0;34m\u001b[0m\u001b[0m\n\u001b[1;32m     25\u001b[0m       \u001b[0mself\u001b[0m\u001b[0;34m.\u001b[0m\u001b[0mhiddens\u001b[0m\u001b[0;34m.\u001b[0m\u001b[0mappend\u001b[0m\u001b[0;34m(\u001b[0m\u001b[0mout\u001b[0m\u001b[0;34m)\u001b[0m\u001b[0;34m\u001b[0m\u001b[0;34m\u001b[0m\u001b[0m\n\u001b[0;32m---> 26\u001b[0;31m       \u001b[0mout\u001b[0m \u001b[0;34m=\u001b[0m \u001b[0mself\u001b[0m\u001b[0;34m.\u001b[0m\u001b[0macts\u001b[0m\u001b[0;34m[\u001b[0m\u001b[0mi\u001b[0m\u001b[0;34m]\u001b[0m\u001b[0;34m(\u001b[0m\u001b[0mout\u001b[0m\u001b[0;34m)\u001b[0m\u001b[0;34m\u001b[0m\u001b[0;34m\u001b[0m\u001b[0m\n\u001b[0m\u001b[1;32m     27\u001b[0m       \u001b[0mself\u001b[0m\u001b[0;34m.\u001b[0m\u001b[0mactivated\u001b[0m\u001b[0;34m.\u001b[0m\u001b[0mappend\u001b[0m\u001b[0;34m(\u001b[0m\u001b[0mout\u001b[0m\u001b[0;34m)\u001b[0m\u001b[0;34m\u001b[0m\u001b[0;34m\u001b[0m\u001b[0m\n\u001b[1;32m     28\u001b[0m     \u001b[0mself\u001b[0m\u001b[0;34m.\u001b[0m\u001b[0mhiddens\u001b[0m\u001b[0;34m.\u001b[0m\u001b[0mappend\u001b[0m\u001b[0;34m(\u001b[0m\u001b[0mX\u001b[0m\u001b[0;34m)\u001b[0m\u001b[0;34m\u001b[0m\u001b[0;34m\u001b[0m\u001b[0m\n",
            "\u001b[0;32m<ipython-input-22-3a1d15411ed1>\u001b[0m in \u001b[0;36msoftmax\u001b[0;34m(x)\u001b[0m\n\u001b[1;32m      1\u001b[0m \u001b[0;32mdef\u001b[0m \u001b[0msoftmax\u001b[0m\u001b[0;34m(\u001b[0m\u001b[0mx\u001b[0m\u001b[0;34m)\u001b[0m\u001b[0;34m:\u001b[0m\u001b[0;34m\u001b[0m\u001b[0;34m\u001b[0m\u001b[0m\n\u001b[0;32m----> 2\u001b[0;31m   \u001b[0ms\u001b[0m \u001b[0;34m=\u001b[0m \u001b[0mnp\u001b[0m\u001b[0;34m.\u001b[0m\u001b[0mexp\u001b[0m\u001b[0;34m(\u001b[0m\u001b[0mx\u001b[0m\u001b[0;34m)\u001b[0m\u001b[0;34m.\u001b[0m\u001b[0msum\u001b[0m\u001b[0;34m(\u001b[0m\u001b[0maxis\u001b[0m\u001b[0;34m=\u001b[0m\u001b[0;36m1\u001b[0m\u001b[0;34m)\u001b[0m\u001b[0;34m\u001b[0m\u001b[0;34m\u001b[0m\u001b[0m\n\u001b[0m\u001b[1;32m      3\u001b[0m   \u001b[0;32mreturn\u001b[0m \u001b[0mnp\u001b[0m\u001b[0;34m.\u001b[0m\u001b[0mdivide\u001b[0m\u001b[0;34m(\u001b[0m\u001b[0mnp\u001b[0m\u001b[0;34m.\u001b[0m\u001b[0mexp\u001b[0m\u001b[0;34m(\u001b[0m\u001b[0mx\u001b[0m\u001b[0;34m)\u001b[0m\u001b[0;34m.\u001b[0m\u001b[0mT\u001b[0m\u001b[0;34m,\u001b[0m \u001b[0ms\u001b[0m\u001b[0;34m)\u001b[0m\u001b[0;34m.\u001b[0m\u001b[0mT\u001b[0m\u001b[0;34m\u001b[0m\u001b[0;34m\u001b[0m\u001b[0m\n",
            "\u001b[0;32m/usr/local/lib/python3.9/dist-packages/numpy/core/_methods.py\u001b[0m in \u001b[0;36m_sum\u001b[0;34m(a, axis, dtype, out, keepdims, initial, where)\u001b[0m\n\u001b[1;32m     46\u001b[0m def _sum(a, axis=None, dtype=None, out=None, keepdims=False,\n\u001b[1;32m     47\u001b[0m          initial=_NoValue, where=True):\n\u001b[0;32m---> 48\u001b[0;31m     \u001b[0;32mreturn\u001b[0m \u001b[0mumr_sum\u001b[0m\u001b[0;34m(\u001b[0m\u001b[0ma\u001b[0m\u001b[0;34m,\u001b[0m \u001b[0maxis\u001b[0m\u001b[0;34m,\u001b[0m \u001b[0mdtype\u001b[0m\u001b[0;34m,\u001b[0m \u001b[0mout\u001b[0m\u001b[0;34m,\u001b[0m \u001b[0mkeepdims\u001b[0m\u001b[0;34m,\u001b[0m \u001b[0minitial\u001b[0m\u001b[0;34m,\u001b[0m \u001b[0mwhere\u001b[0m\u001b[0;34m)\u001b[0m\u001b[0;34m\u001b[0m\u001b[0;34m\u001b[0m\u001b[0m\n\u001b[0m\u001b[1;32m     49\u001b[0m \u001b[0;34m\u001b[0m\u001b[0m\n\u001b[1;32m     50\u001b[0m def _prod(a, axis=None, dtype=None, out=None, keepdims=False,\n",
            "\u001b[0;31mAxisError\u001b[0m: axis 1 is out of bounds for array of dimension 1"
          ]
        }
      ]
    },
    {
      "cell_type": "code",
      "source": [
        "y_exp[2]"
      ],
      "metadata": {
        "colab": {
          "base_uri": "https://localhost:8080/"
        },
        "id": "sP_GsIHs2tgx",
        "outputId": "674d4a68-e169-4042-c0d6-b849856dd5b1"
      },
      "execution_count": 43,
      "outputs": [
        {
          "output_type": "execute_result",
          "data": {
            "text/plain": [
              "array([1., 0., 0.])"
            ]
          },
          "metadata": {},
          "execution_count": 43
        }
      ]
    },
    {
      "cell_type": "code",
      "source": [],
      "metadata": {
        "id": "q5jdRLG_25K2"
      },
      "execution_count": null,
      "outputs": []
    }
  ]
}